{
 "cells": [
  {
   "cell_type": "code",
   "execution_count": 1,
   "metadata": {},
   "outputs": [],
   "source": [
    "# Importation des bibliothèques nécessaires\n",
    "import numpy as np\n",
    "import pandas as pd\n",
    "import matplotlib.pyplot as plt\n",
    "import seaborn as sns\n",
    "from sklearn.model_selection import train_test_split, cross_val_score, RandomizedSearchCV\n",
    "from sklearn.preprocessing import OneHotEncoder, StandardScaler\n",
    "from sklearn.impute import SimpleImputer\n",
    "from sklearn.pipeline import Pipeline\n",
    "from sklearn.feature_selection import SelectKBest, VarianceThreshold\n",
    "from sklearn.compose import ColumnTransformer\n",
    "from sklearn.metrics import roc_auc_score, accuracy_score, RocCurveDisplay\n",
    "from sklearn.ensemble import AdaBoostClassifier, GradientBoostingClassifier, RandomForestClassifier\n",
    "from sklearn.tree import DecisionTreeClassifier\n",
    "from sklearn.svm import SVC\n",
    "from sklearn.neighbors import KNeighborsClassifier\n",
    "\n",
    "import warnings\n",
    "warnings.filterwarnings('ignore')"
   ]
  },
  {
   "cell_type": "code",
   "execution_count": 2,
   "metadata": {},
   "outputs": [],
   "source": [
    "# Chargement des données\n",
    "data = pd.read_csv('data_ibm.csv')\n",
    "\n",
    "# Conversion des colonnes non numériques en type catégorique\n",
    "for column in data.select_dtypes(exclude='int').columns:\n",
    "    data[column] = data[column].astype('category')\n",
    "\n",
    "# Division des données en ensembles d'entraînement et de test\n",
    "train_data, test_data = train_test_split(data, test_size=0.25, random_state=42)"
   ]
  },
  {
   "cell_type": "code",
   "execution_count": 3,
   "metadata": {},
   "outputs": [],
   "source": [
    "# Séparation des caractéristiques et de la cible\n",
    "y_train = train_data['Attrition']\n",
    "X_train = train_data.drop(columns=['Attrition'], axis=1)\n",
    "\n",
    "y_test = test_data['Attrition']\n",
    "X_test = test_data.drop(columns=['Attrition'], axis=1)\n",
    "\n",
    "# Vérification et suppression des colonnes constantes\n",
    "constant_cols = [col for col in X_train.columns if X_train[col].nunique() <= 1]\n",
    "X_train = X_train.drop(columns=constant_cols)\n",
    "X_test = X_test.drop(columns=constant_cols)\n",
    "\n",
    "# Sélection des colonnes numériques et catégoriques\n",
    "numeric_features = X_train.select_dtypes(include=np.number).columns\n",
    "categorical_features = X_train.select_dtypes(exclude=np.number).columns"
   ]
  },
  {
   "cell_type": "code",
   "execution_count": 4,
   "metadata": {},
   "outputs": [],
   "source": [
    "# Transformation des caractéristiques numériques\n",
    "numeric_transformer = Pipeline(steps=[\n",
    "    ('imputer', SimpleImputer(strategy='median')),\n",
    "    ('scaler', StandardScaler())\n",
    "])\n",
    "\n",
    "# Transformation des caractéristiques catégoriques\n",
    "categorical_transformer = Pipeline(steps=[\n",
    "    ('imputer', SimpleImputer(strategy='most_frequent')),\n",
    "    ('onehot', OneHotEncoder(handle_unknown='ignore'))\n",
    "])\n",
    "\n",
    "# Construction d'un transformateur de colonnes\n",
    "preprocessor = ColumnTransformer(\n",
    "    transformers=[\n",
    "        ('numeric', numeric_transformer, numeric_features),\n",
    "        ('categorical', categorical_transformer, categorical_features)\n",
    "    ]\n",
    ")\n",
    "\n",
    "# Ajout d'un filtre global pour supprimer les colonnes constantes après prétraitement\n",
    "pipeline_base = Pipeline(steps=[\n",
    "    ('preprocessor', preprocessor)\n",
    "])"
   ]
  },
  {
   "cell_type": "code",
   "execution_count": 5,
   "metadata": {},
   "outputs": [],
   "source": [
    "# Liste des modèles de classification à tester\n",
    "classifiers = [\n",
    "    ('KNN', KNeighborsClassifier()),\n",
    "    ('SVM', SVC(probability=True)),\n",
    "    ('Decision Tree', DecisionTreeClassifier()),\n",
    "    ('Random Forest', RandomForestClassifier()),\n",
    "    ('AdaBoost', AdaBoostClassifier(algorithm='SAMME', random_state=42)),\n",
    "    ('Gradient Boosting', GradientBoostingClassifier(random_state=42))\n",
    "]"
   ]
  },
  {
   "cell_type": "code",
   "execution_count": 6,
   "metadata": {},
   "outputs": [
    {
     "name": "stdout",
     "output_type": "stream",
     "text": [
      "               Model       AUC\n",
      "4           AdaBoost  0.833621\n",
      "5  Gradient Boosting  0.824418\n",
      "1                SVM  0.817704\n",
      "3      Random Forest  0.797936\n",
      "0                KNN  0.663546\n",
      "2      Decision Tree  0.622072\n",
      "Meilleurs paramètres : {'selector__k': 31, 'classifier__n_estimators': 300, 'classifier__learning_rate': 0.1}\n",
      "Meilleur AUC : 0.8292864800630115\n"
     ]
    }
   ],
   "source": [
    "# Évaluation des modèles via validation croisée\n",
    "model_performance = []\n",
    "for name, model in classifiers:\n",
    "    pipeline = Pipeline(steps=[\n",
    "        ('preprocessor', pipeline_base),\n",
    "        ('selector', SelectKBest(k='all')),  # Utilisation de toutes les caractéristiques\n",
    "        ('classifier', model)\n",
    "    ])\n",
    "    auc = cross_val_score(pipeline, X_train, y_train, cv=10, scoring='roc_auc').mean()\n",
    "    model_performance.append({'Model': name, 'AUC': auc})\n",
    "\n",
    "# Résultats des performances des modèles\n",
    "model_results = pd.DataFrame(model_performance).sort_values(by='AUC', ascending=False)\n",
    "print(model_results)\n",
    "\n",
    "# Optimisation hyperparamétrique avec RandomizedSearchCV\n",
    "param_distributions = {\n",
    "    'selector__k': range(5, len(X_train.columns) + 1),\n",
    "    'classifier__n_estimators': [100, 200, 300],\n",
    "    'classifier__learning_rate': [0.01, 0.1, 1]\n",
    "}\n",
    "\n",
    "ada_pipeline = Pipeline(steps=[\n",
    "    ('preprocessor', pipeline_base),\n",
    "    ('selector', SelectKBest()),\n",
    "    ('classifier', AdaBoostClassifier(random_state=42))\n",
    "])\n",
    "\n",
    "random_search = RandomizedSearchCV(\n",
    "    estimator=ada_pipeline,\n",
    "    param_distributions=param_distributions,\n",
    "    n_iter=20,\n",
    "    scoring='roc_auc',\n",
    "    cv=5,\n",
    "    n_jobs=-1,\n",
    "    random_state=42\n",
    ")\n",
    "\n",
    "# Entraînement avec les hyperparamètres optimaux\n",
    "random_search.fit(X_train, y_train)\n",
    "\n",
    "# Affichage des meilleurs paramètres et du score\n",
    "print(\"Meilleurs paramètres :\", random_search.best_params_)\n",
    "print(\"Meilleur AUC :\", random_search.best_score_)"
   ]
  },
  {
   "cell_type": "code",
   "execution_count": 7,
   "metadata": {},
   "outputs": [
    {
     "name": "stdout",
     "output_type": "stream",
     "text": [
      "AUC ROC sur le test set : 0.7799479166666666\n",
      "Accuracy sur le test set : 0.8777173913043478\n"
     ]
    },
    {
     "data": {
      "image/png": "[encoded data removed]",
      "text/plain": [
       "<Figure size 640x480 with 1 Axes>"
      ]
     },
     "metadata": {},
     "output_type": "display_data"
    }
   ],
   "source": [
    "# Évaluation sur l'ensemble de test\n",
    "y_test_numeric = y_test.map({'No': 0, 'Yes': 1})\n",
    "y_pred = random_search.predict(X_test)\n",
    "y_score = random_search.predict_proba(X_test)[:, 1]\n",
    "\n",
    "print('AUC ROC sur le test set :', roc_auc_score(y_test_numeric, y_score))\n",
    "print('Accuracy sur le test set :', accuracy_score(y_test, y_pred))\n",
    "\n",
    "# Courbe ROC\n",
    "RocCurveDisplay.from_predictions(y_test_numeric, y_score)\n",
    "plt.title('Courbe ROC')\n",
    "plt.show()"
   ]
  }
 ],
 "metadata": {
  "kernelspec": {
   "display_name": "APN",
   "language": "python",
   "name": "python3"
  },
  "language_info": {
   "codemirror_mode": {
    "name": "ipython",
    "version": 3
   },
   "file_extension": ".py",
   "mimetype": "text/x-python",
   "name": "python",
   "nbconvert_exporter": "python",
   "pygments_lexer": "ipython3",
   "version": "3.12.3"
  }
 },
 "nbformat": 4,
 "nbformat_minor": 2
}
